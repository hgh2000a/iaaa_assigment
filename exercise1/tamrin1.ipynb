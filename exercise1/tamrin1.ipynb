{
 "cells": [
  {
   "cell_type": "markdown",
   "id": "4e11b7ff-526a-4c24-a040-5caba39f891b",
   "metadata": {},
   "source": [
    "# حسین قربانی 👨‍🎓"
   ]
  },
  {
   "cell_type": "markdown",
   "id": "7408e6be-ff31-48d9-a413-8b0404ebedb4",
   "metadata": {},
   "source": [
    "## تمرین اول📚"
   ]
  },
  {
   "cell_type": "markdown",
   "id": "6b8c018a-7efa-4981-a0aa-0075b22ad3a0",
   "metadata": {},
   "source": [
    "### متغیرها ❓"
   ]
  },
  {
   "cell_type": "markdown",
   "id": "3198050f-30d1-41d4-87c1-7378e5eb1ada",
   "metadata": {},
   "source": [
    "<div dir=\"rtl\" align=\"right\">\n",
    "1: چاپ میکنیم print برای این کار سه متغیر تعریف میکنیم و به صورت همزمان مقدار دهی میکنیم و با استفاده از\n",
    "</div>"
   ]
  },
  {
   "cell_type": "code",
   "execution_count": 16,
   "id": "6da749f1-bf41-4182-acbb-a55062299bb0",
   "metadata": {},
   "outputs": [
    {
     "name": "stdout",
     "output_type": "stream",
     "text": [
      "Hossein \n",
      " 23 \n",
      " pink\n"
     ]
    }
   ],
   "source": [
    "name , age , color = \"Hossein\",23, \"pink\"\n",
    "print(name,\"\\n\",age,\"\\n\",color)"
   ]
  },
  {
   "cell_type": "markdown",
   "id": "70d6636a-fa34-4804-9d11-e565dc3bfd44",
   "metadata": {},
   "source": [
    "<div dir=\"rtl\" align=\"right\">\n",
    "2:برای این کار دو متغیر تعریف شده است و با تکنیک پایتون جابهجا شده است\n",
    "</div>"
   ]
  },
  {
   "cell_type": "code",
   "execution_count": 17,
   "id": "150cba70-4fed-4eb4-acd0-19c9b85ef402",
   "metadata": {},
   "outputs": [
    {
     "name": "stdout",
     "output_type": "stream",
     "text": [
      "a=69,b=85\n"
     ]
    }
   ],
   "source": [
    "a = 85\n",
    "b = 69 \n",
    "a,b = b,a \n",
    "print(f\"a={a},b={b}\")"
   ]
  },
  {
   "cell_type": "markdown",
   "id": "77ea5fcd-33f2-42d6-8991-d6f2cf3085eb",
   "metadata": {},
   "source": [
    "<div dir=\"rtl\" align=\"right\">\n",
    "3:دو متغیر تعریف شده است و با یک ضرب ساده به دست میآید\n",
    "</div>"
   ]
  },
  {
   "cell_type": "code",
   "execution_count": 19,
   "id": "e686f148-c2ec-4f0f-96d3-ace77bc3fe82",
   "metadata": {},
   "outputs": [
    {
     "name": "stdout",
     "output_type": "stream",
     "text": [
      "200\n"
     ]
    }
   ],
   "source": [
    "a = 10\n",
    "b = 20\n",
    "area = a*b\n",
    "print(area)"
   ]
  },
  {
   "cell_type": "markdown",
   "id": "ec8eb65d-8828-488d-91d4-057571678f88",
   "metadata": {},
   "source": [
    "### ورودی و خروجی ❓"
   ]
  },
  {
   "cell_type": "markdown",
   "id": "ade69691-df24-4b99-870f-546b51f3391f",
   "metadata": {},
   "source": [
    "<div dir=\"rtl\" align=\"right\">\n",
    "1:با input ورودی میگیریم \n",
    "    با try یک کنترل خطا میکنیم\n",
    "    سپس با f string چاپ میکنیم \n",
    "</div>"
   ]
  },
  {
   "cell_type": "code",
   "execution_count": 33,
   "id": "59d05c5f-943a-4208-8667-51be07e2edd8",
   "metadata": {},
   "outputs": [
    {
     "name": "stdin",
     "output_type": "stream",
     "text": [
      "please enter your name ali\n",
      "please enter your age 20\n"
     ]
    },
    {
     "name": "stdout",
     "output_type": "stream",
     "text": [
      "Hi Ali, you are 20 year old\n"
     ]
    }
   ],
   "source": [
    "name = (input(\"please enter your name\")).capitalize()\n",
    "while True:\n",
    "    try:\n",
    "        age = int(input(\"please enter your age\"))\n",
    "        break\n",
    "    except:\n",
    "        continue \n",
    "\n",
    "print(f\"Hi {name}, you are {age} year old\")"
   ]
  },
  {
   "cell_type": "markdown",
   "id": "3014ad01-10a1-4281-a640-7d4acb1ccd09",
   "metadata": {},
   "source": [
    "<div dir=\"rtl\" align=\"right\">\n",
    "2:ورودی های مورد نظر را میگیریم سپس عملیات های مورد نیاز را با استفاده از f string انجام میدهیم \n",
    "در نهایت یک کنترل خطا برای تقسیم بر صفر میرویم \n",
    "</div>"
   ]
  },
  {
   "cell_type": "code",
   "execution_count": 50,
   "id": "ae44030f-4da6-4794-b331-e26c64d9d189",
   "metadata": {},
   "outputs": [
    {
     "name": "stdin",
     "output_type": "stream",
     "text": [
      " 5\n",
      " 8\n"
     ]
    },
    {
     "name": "stdout",
     "output_type": "stream",
     "text": [
      "Addition = 13 \n",
      "subtraction = -3\n",
      "multiplication = 40\n",
      "division = 0.625)\n"
     ]
    }
   ],
   "source": [
    "num1 = int(input())\n",
    "num2 = int(input())\n",
    "try:\n",
    "    print(f\"\"\"Addition = {num1 + num2} \n",
    "subtraction = {num1-num2}\n",
    "multiplication = {num1*num2}\n",
    "division = {num1/num2})\"\"\")\n",
    "except(ZeroDivisionError):\n",
    "    print(\"num2 can't be 0\")"
   ]
  },
  {
   "cell_type": "markdown",
   "id": "fdbf36ef-507f-4f73-a1b1-cec66752e378",
   "metadata": {},
   "source": [
    "<div dir=\"rtl\" align=\"right\">\n",
    "3:با استفاده از کتابخانه datetime زمان حال را میگریم و با سن وارد شده کم میکنیم و سن به دست میآید\n",
    "</div>"
   ]
  },
  {
   "cell_type": "markdown",
   "id": "2e2f09ef-88bc-4a3c-96e6-cb36ae01ecdf",
   "metadata": {},
   "source": [
    "from datetime import datetime\n",
    "year_birthday = int(input())\n",
    "print(f\"age = {datetime.now().year - year_birthday}\")"
   ]
  },
  {
   "cell_type": "markdown",
   "id": "118ea879-f847-43e9-817e-dc030c34779b",
   "metadata": {},
   "source": [
    "### لیست ها ❓"
   ]
  },
  {
   "cell_type": "markdown",
   "id": "ad57a6aa-9d0c-4d61-9041-1362424522a1",
   "metadata": {},
   "source": [
    "<div dir=\"rtl\" align=\"right\">\n",
    "1:لیست ساخته سپس با استفاده از index ها چاپ مکنیم\n",
    "<div/>"
   ]
  },
  {
   "cell_type": "code",
   "execution_count": 55,
   "id": "f70b3e10-3ec7-4cd9-9211-9f0c025885eb",
   "metadata": {},
   "outputs": [
    {
     "name": "stdout",
     "output_type": "stream",
     "text": [
      "orange cucumber\n"
     ]
    }
   ],
   "source": [
    "frutes = [\"apple\", \"orange\", \"banana\", \"kiwi\", \"cucumber\"]\n",
    "print(frutes[1],frutes[-1])"
   ]
  },
  {
   "cell_type": "markdown",
   "id": "aea29e4b-5358-4c3a-805d-54210bbccf28",
   "metadata": {},
   "source": [
    "<div dir=\"rtl\" align=\"right\">\n",
    "2: split برای جدا سازی اعداد با فاصله استفاده میکنیم ، در ادامه از map برای تبدیل به int استفاده کرده و در اخر با استفاده از توابع درونی min , max \n",
    "<div\\>"
   ]
  },
  {
   "cell_type": "code",
   "execution_count": 60,
   "id": "61fb47f0-0123-471b-8a04-801d39ab9980",
   "metadata": {},
   "outputs": [
    {
     "name": "stdin",
     "output_type": "stream",
     "text": [
      " 5 4 5 8 4\n"
     ]
    },
    {
     "name": "stdout",
     "output_type": "stream",
     "text": [
      "4\n",
      "8\n"
     ]
    }
   ],
   "source": [
    "numbers = list(map(int,input().split()))\n",
    "print(min(numbers))\n",
    "print(max(numbers))"
   ]
  },
  {
   "cell_type": "markdown",
   "id": "a7f89d0b-a9a2-4013-8bfc-d53c29cdfa8d",
   "metadata": {},
   "source": [
    "<div dir=\"rtl\" align=\"right\">\n",
    "3:ابتدا به مجموعه تبدیل کرده که تکراری ها حذف شود و درنهایت به لیست تبدیل میکنیم \n",
    "<div/>"
   ]
  },
  {
   "cell_type": "code",
   "execution_count": 61,
   "id": "e036eddb-8c65-4d16-a12c-8b0137346f30",
   "metadata": {},
   "outputs": [
    {
     "name": "stdout",
     "output_type": "stream",
     "text": [
      "[2, 3, 4, 5, 6]\n"
     ]
    }
   ],
   "source": [
    "lst1 = [5,5,4,6,4,2,3]\n",
    "lst2 = list(set(lst1))\n",
    "print(lst2)"
   ]
  },
  {
   "cell_type": "markdown",
   "id": "9e1054ba-1f5f-4294-b834-8300ec9e66fc",
   "metadata": {},
   "source": [
    "### تاپل ها ❓"
   ]
  },
  {
   "cell_type": "markdown",
   "id": "4658c5da-d7aa-419b-858a-42d137fdada0",
   "metadata": {},
   "source": [
    "<div dir=\"rtl\" align=\"right\">\n",
    "1:همانند لیست هاست فرق خاصی در این سوال ندارد\n",
    "<div/>"
   ]
  },
  {
   "cell_type": "code",
   "execution_count": 63,
   "id": "ced2c556-5f52-4ad6-819e-7dbc6dea1f6f",
   "metadata": {},
   "outputs": [
    {
     "name": "stdout",
     "output_type": "stream",
     "text": [
      "black blue\n"
     ]
    }
   ],
   "source": [
    "colors = (\"black\", \"pink\", \"yellow\", \"red\", \"blue\")\n",
    "print(colors[0],colors[-1])"
   ]
  },
  {
   "cell_type": "markdown",
   "id": "3de747d2-e26d-4bfc-bf20-068ca2d22578",
   "metadata": {},
   "source": [
    "<div dir=\"rtl\" align=\"right\">\n",
    "2: با استفاده از list یک cast ساده میکنیم\n",
    "<div/>"
   ]
  },
  {
   "cell_type": "code",
   "execution_count": 65,
   "id": "9b996822-83f6-4e7a-83c0-1107de85998a",
   "metadata": {},
   "outputs": [
    {
     "name": "stdout",
     "output_type": "stream",
     "text": [
      "<class 'list'>\n"
     ]
    }
   ],
   "source": [
    "colors = (\"black\", \"pink\", \"yellow\", \"red\", \"blue\")\n",
    "lst = list(colors)\n",
    "print(type(lst))"
   ]
  },
  {
   "cell_type": "markdown",
   "id": "500e8e33-1149-4f98-8351-f71f6481aae5",
   "metadata": {},
   "source": [
    "<div dir=\"rtl\" align=\"right\">\n",
    "3:از متد count برای اینکار استفاده میکینم \n",
    "<div\\>"
   ]
  },
  {
   "cell_type": "code",
   "execution_count": 68,
   "id": "9088dbae-cb42-4de1-bcb5-9a8e00424042",
   "metadata": {},
   "outputs": [
    {
     "name": "stdin",
     "output_type": "stream",
     "text": [
      " 2\n"
     ]
    },
    {
     "name": "stdout",
     "output_type": "stream",
     "text": [
      "2\n"
     ]
    }
   ],
   "source": [
    "numbers = (1, 1, 1, 2, 2, 3, 3, 3, 3, 5)\n",
    "n = int(input())\n",
    "print(numbers.count(n))"
   ]
  },
  {
   "cell_type": "markdown",
   "id": "a79c9f93-2535-437a-9313-578331eac071",
   "metadata": {},
   "source": [
    "### توابع ❓"
   ]
  },
  {
   "cell_type": "markdown",
   "id": "cc0d6969-41ef-440e-aced-d7eadaff4290",
   "metadata": {},
   "source": [
    "<div dir=\"rtl\" align=\"right\">\n",
    "1:توضیح خاصی ندارد صرفا یک جمع ساده است\n",
    "<div/>"
   ]
  },
  {
   "cell_type": "code",
   "execution_count": 71,
   "id": "ade02957-c75c-4748-84db-785cb64a4735",
   "metadata": {},
   "outputs": [
    {
     "name": "stdin",
     "output_type": "stream",
     "text": [
      " 5\n",
      " 5\n"
     ]
    },
    {
     "name": "stdout",
     "output_type": "stream",
     "text": [
      "10\n"
     ]
    }
   ],
   "source": [
    "def total():\n",
    "    num1 = int(input())\n",
    "    num2 = int(input())\n",
    "    return num1+num2\n",
    "print(total())"
   ]
  },
  {
   "cell_type": "markdown",
   "id": "8fe71db8-6a10-446f-93ec-ab0431532338",
   "metadata": {},
   "source": [
    "<div dir=\"rtl\" align=\"right\">\n",
    "2: یک تابع با استفاده از max نوشته میشود\n",
    "<div/>"
   ]
  },
  {
   "cell_type": "code",
   "execution_count": 73,
   "id": "cb6dc162-826a-498d-b0e9-9e387475c4ec",
   "metadata": {},
   "outputs": [
    {
     "name": "stdout",
     "output_type": "stream",
     "text": [
      "5\n"
     ]
    }
   ],
   "source": [
    "def max1(lst:list()):\n",
    "    print(max(lst))\n",
    "max1([1, 2, 3, 4, 5])"
   ]
  },
  {
   "cell_type": "markdown",
   "id": "488fc641-fc33-4afa-b765-2c8ec70f569b",
   "metadata": {},
   "source": [
    "<div dir=\"rtl\" align=\"right\">\n",
    "3:برای حل این سوال ابتدا حروف صدادار را مشخص میکنیم.سپس متن ورودی را به صورت حروف تمام بزرگ تبدیل میکنیم و با iterate کردن تعداد را میشماریم\n",
    "<div/>"
   ]
  },
  {
   "cell_type": "code",
   "execution_count": 78,
   "id": "3a718d85-5b59-43a9-85aa-a0dcc267c173",
   "metadata": {},
   "outputs": [
    {
     "name": "stdin",
     "output_type": "stream",
     "text": [
      " AAalkOo\n"
     ]
    },
    {
     "name": "stdout",
     "output_type": "stream",
     "text": [
      "5\n"
     ]
    }
   ],
   "source": [
    "def count_vowels(text):\n",
    "    vowels = \"AEIOU\"   \n",
    "    count = 0\n",
    "    text = text.upper()\n",
    "    for ch in text:\n",
    "        if ch in vowels:\n",
    "            count += 1\n",
    "    return count\n",
    "\n",
    "s = input()\n",
    "print(count_vowels(s))"
   ]
  },
  {
   "cell_type": "markdown",
   "id": "946c4efb-165b-4d58-b8d1-01f2f3e584e2",
   "metadata": {},
   "source": [
    "### پروژه کوچک ترکیبی ❓"
   ]
  },
  {
   "cell_type": "markdown",
   "id": "37005673-2073-4abe-a6fa-3785c87ae9cb",
   "metadata": {},
   "source": [
    "<div dir=\"rtl\" align=\"right\">\n",
    "برای حل این سوال در ابتدا به تعداد ورودی به تعداد کالا که کاربر زده است for میزنیم و در لیست اضافه میکنیم\n",
    "در تابع اول با استفاده از Comprehension نام ها را پیدا میکنیم \n",
    "در تابع دوم با استفاده از Comprehension و sum مجموع را پیدا میکنیم\n",
    "در تابع اخر با استفاده از max بیشترین قیمت و با استفاده از filter نام کالا را پیدا میکنیم\n",
    "<div\\>"
   ]
  },
  {
   "cell_type": "code",
   "execution_count": 102,
   "id": "79a0a4b1-c2c1-47ff-bf99-6eda5e4b3011",
   "metadata": {},
   "outputs": [
    {
     "name": "stdin",
     "output_type": "stream",
     "text": [
      "How many items do you want? 3\n",
      "name of item a\n",
      "enter price of item 1\n",
      "name of item b\n",
      "enter price of item 2\n",
      "name of item c\n",
      "enter price of item 3\n"
     ]
    },
    {
     "name": "stdout",
     "output_type": "stream",
     "text": [
      "['a', 'b', 'c']\n",
      "6\n",
      "[('c', 3)]\n"
     ]
    }
   ],
   "source": [
    "n = int(input(\"How many items do you want?\"))\n",
    "lst = list()\n",
    "for _ in range(n):\n",
    "    name = input(\"name of item\")\n",
    "    price = int(input(\"enter price of item\"))\n",
    "    lst.append((name,price))\n",
    "                \n",
    "\n",
    "def show_items():\n",
    "    names = [item[0] for item in lst]\n",
    "    print(names)\n",
    "\n",
    "def calclute_price():\n",
    "    prices = [item[1] for item in lst] \n",
    "    print(sum(prices))\n",
    "    \n",
    "def Expensive_item():\n",
    "    most_price = max([item[1] for item in lst])\n",
    "    expensive = filter(lambda x:x[1] == price,lst)\n",
    "    print(list(expensive))\n",
    "    \n",
    "show_items()\n",
    "calclute_price()\n",
    "Expensive_item()\n",
    "\n",
    "    "
   ]
  },
  {
   "cell_type": "markdown",
   "id": "86b48999-c35c-4db9-bc01-fb4697bc047d",
   "metadata": {},
   "source": [
    "<img src=\"https://github.githubassets.com/images/modules/logos_page/GitHub-Mark.png\" width=\"30\">\n",
    "https://github.com/hgh2000a/iaaa_assigment"
   ]
  }
 ],
 "metadata": {
  "kernelspec": {
   "display_name": "Python 3 (ipykernel)",
   "language": "python",
   "name": "python3"
  },
  "language_info": {
   "codemirror_mode": {
    "name": "ipython",
    "version": 3
   },
   "file_extension": ".py",
   "mimetype": "text/x-python",
   "name": "python",
   "nbconvert_exporter": "python",
   "pygments_lexer": "ipython3",
   "version": "3.11.7"
  }
 },
 "nbformat": 4,
 "nbformat_minor": 5
}
